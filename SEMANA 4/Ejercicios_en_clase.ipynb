{
 "cells": [
  {
   "cell_type": "markdown",
   "id": "027771e4",
   "metadata": {},
   "source": [
    "# Ejercicios clase viernes 25-04-2025"
   ]
  }
 ],
 "metadata": {
  "language_info": {
   "name": "python"
  }
 },
 "nbformat": 4,
 "nbformat_minor": 5
}
